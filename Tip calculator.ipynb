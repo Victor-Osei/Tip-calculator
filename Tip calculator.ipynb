{
 "cells": [
  {
   "cell_type": "code",
   "execution_count": 4,
   "id": "bdaa1b1a-2d96-40c9-8b09-ae849ee1d0b6",
   "metadata": {},
   "outputs": [
    {
     "name": "stdin",
     "output_type": "stream",
     "text": [
      "Enter the charge for the food: $ -50\n"
     ]
    },
    {
     "name": "stdout",
     "output_type": "stream",
     "text": [
      "Invalid input. Please enter a valid charge for the food.\n"
     ]
    },
    {
     "name": "stdin",
     "output_type": "stream",
     "text": [
      "Enter the charge for the food: $ 'fifty'\n"
     ]
    },
    {
     "name": "stdout",
     "output_type": "stream",
     "text": [
      "could not convert string to float: \"'fifty'\"\n"
     ]
    },
    {
     "name": "stdin",
     "output_type": "stream",
     "text": [
      "Enter the charge for the food: $ 50\n"
     ]
    },
    {
     "name": "stdout",
     "output_type": "stream",
     "text": [
      "Tip amount (18%): $ 9.00\n",
      "Sales tax amount (7%): $ 3.50\n",
      "Total amount (food charge + tip + sales tax): $ 62.50\n"
     ]
    }
   ],
   "source": [
    "# Ask the user to enter the charge for the food. Use float incase a point is used.\n",
    "# User enters charge of food with input validation\n",
    "while True:\n",
    "    try:\n",
    "        food_charge = float(input(\"Enter the charge for the food: $\")) \n",
    "        if food_charge <= 0:\n",
    "            raise ValueError(\"Invalid input. Please enter a valid charge for the food.\")\n",
    "        break\n",
    "    except ValueError as e:\n",
    "        print(e)\n",
    " \n",
    "# Calculate the tip and sales tax\n",
    "tip_percent = 0.18\n",
    "sales_tax_percent = 0.07\n",
    " \n",
    "tip_amount = food_charge * tip_percent\n",
    "sales_tax_amount = food_charge * sales_tax_percent\n",
    " \n",
    "# Calculate the total amount (food charge + tip + sales tax)\n",
    "total_amount = food_charge + tip_amount + sales_tax_amount\n",
    " \n",
    "# Display the results\n",
    "print(\"Tip amount (18%): $\", format(tip_amount, '.2f'))\n",
    "print(\"Sales tax amount (7%): $\", format(sales_tax_amount, '.2f'))\n",
    "print(\"Total amount (food charge + tip + sales tax): $\", format(total_amount, '.2f'))\n"
   ]
  },
  {
   "cell_type": "code",
   "execution_count": null,
   "id": "5546baf2-8d53-41bf-a211-bdec9724e972",
   "metadata": {},
   "outputs": [],
   "source": []
  }
 ],
 "metadata": {
  "kernelspec": {
   "display_name": "Python 3 (ipykernel)",
   "language": "python",
   "name": "python3"
  },
  "language_info": {
   "codemirror_mode": {
    "name": "ipython",
    "version": 3
   },
   "file_extension": ".py",
   "mimetype": "text/x-python",
   "name": "python",
   "nbconvert_exporter": "python",
   "pygments_lexer": "ipython3",
   "version": "3.10.11"
  }
 },
 "nbformat": 4,
 "nbformat_minor": 5
}
